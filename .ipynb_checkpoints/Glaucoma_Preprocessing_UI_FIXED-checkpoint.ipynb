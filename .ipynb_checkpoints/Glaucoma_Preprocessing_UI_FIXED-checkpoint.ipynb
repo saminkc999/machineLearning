{
 "cells": [
  {
   "cell_type": "code",
   "execution_count": null,
   "id": "359ace66",
   "metadata": {},
   "outputs": [],
   "source": [
    "\n",
    "import ipywidgets as widgets\n",
    "from IPython.display import display, clear_output\n",
    "import io\n",
    "from PIL import Image\n",
    "\n",
    "# Create file upload widget\n",
    "upload_widget = widgets.FileUpload(\n",
    "    accept='image/*',  # Accept only images\n",
    "    multiple=False     # Only one file at a time\n",
    ")\n",
    "\n",
    "# Display the widget\n",
    "display(upload_widget)\n",
    "\n",
    "# Function to handle the uploaded file\n",
    "def on_upload_change(change):\n",
    "    clear_output(wait=True)\n",
    "    display(upload_widget)\n",
    "\n",
    "    # Get the uploaded file\n",
    "    uploaded_file = list(upload_widget.value.values())[0]\n",
    "    file_content = uploaded_file['content']\n",
    "    file_name = uploaded_file['metadata']['name']\n",
    "\n",
    "    # Load as image and display\n",
    "    image = Image.open(io.BytesIO(file_content))\n",
    "    display(image)\n",
    "    print(f\"Uploaded file: {file_name}\")\n",
    "\n",
    "# Bind the function to change event\n",
    "upload_widget.observe(on_upload_change, names='value')\n"
   ]
  },
  {
   "cell_type": "code",
   "execution_count": null,
   "id": "212277bb",
   "metadata": {},
   "outputs": [],
   "source": [
    "# Step 2: Import Libraries\n",
    "import cv2\n",
    "import numpy as np\n",
    "import matplotlib.pyplot as plt\n",
    "from skimage import exposure\n",
    "from PIL import Image\n",
    "import io\n",
    "import ipywidgets as widgets\n",
    "from IPython.display import display, clear_output"
   ]
  },
  {
   "cell_type": "code",
   "execution_count": null,
   "id": "6ee45628",
   "metadata": {},
   "outputs": [],
   "source": [
    "# Step 3: Define Preprocessing Functions\n",
    "def apply_ahe(gray_img):\n",
    "    return exposure.equalize_adapthist(gray_img, clip_limit=0.03)\n",
    "\n",
    "def apply_bilateral_filter(image):\n",
    "    return cv2.bilateralFilter(image, d=9, sigmaColor=75, sigmaSpace=75)\n",
    "\n",
    "def preprocess_image(image_bytes):\n",
    "    image = Image.open(io.BytesIO(image_bytes)).convert('RGB')\n",
    "    image_np = np.array(image)\n",
    "    gray = cv2.cvtColor(image_np, cv2.COLOR_RGB2GRAY)\n",
    "    ahe_img = apply_ahe(gray)\n",
    "    ahe_rescaled = (ahe_img * 255).astype(np.uint8)\n",
    "    filtered_img = apply_bilateral_filter(ahe_rescaled)\n",
    "    return image_np, filtered_img"
   ]
  },
  {
   "cell_type": "code",
   "execution_count": null,
   "id": "26ff7f15",
   "metadata": {},
   "outputs": [],
   "source": [
    "# Step 4: UI - Upload Image and Display Results\n",
    "def on_upload_change(change):\n",
    "    clear_output(wait=True)\n",
    "    display(uploader)\n",
    "    for name, file_info in uploader.value.items():\n",
    "        original, processed = preprocess_image(file_info['content'])\n",
    "        plt.figure(figsize=(10, 5))\n",
    "        plt.subplot(1, 2, 1)\n",
    "        plt.imshow(original)\n",
    "        plt.title('Original Image')\n",
    "        plt.axis('off')\n",
    "        plt.subplot(1, 2, 2)\n",
    "        plt.imshow(processed, cmap='gray')\n",
    "        plt.title('Preprocessed Image')\n",
    "        plt.axis('off')\n",
    "        plt.suptitle(\"Fig 1. Sample Input and Pre-processed Images: (a) Input image (b) Preprocessed image\")\n",
    "        plt.show()"
   ]
  },
  {
   "cell_type": "code",
   "execution_count": null,
   "id": "151962ac",
   "metadata": {},
   "outputs": [],
   "source": [
    "# Step 5: Display Upload Button\n",
    "uploader = widgets.FileUpload(accept='image/*', multiple=False)\n",
    "uploader.observe(on_upload_change, names='value')\n",
    "display(uploader)"
   ]
  },
  {
   "cell_type": "code",
   "execution_count": null,
   "id": "6b9f0cd5-49f5-4071-9eec-6c2fa1064206",
   "metadata": {},
   "outputs": [],
   "source": [
    "import ipywidgets as widgets\n",
    "from IPython.display import display\n",
    "\n",
    "slider = widgets.IntSlider(value=5, min=0, max=10, description='Test Slider:')\n",
    "display(slider)\n"
   ]
  }
 ],
 "metadata": {
  "kernelspec": {
   "display_name": "Python [conda env:base] *",
   "language": "python",
   "name": "conda-base-py"
  },
  "language_info": {
   "codemirror_mode": {
    "name": "ipython",
    "version": 3
   },
   "file_extension": ".py",
   "mimetype": "text/x-python",
   "name": "python",
   "nbconvert_exporter": "python",
   "pygments_lexer": "ipython3",
   "version": "3.12.3"
  }
 },
 "nbformat": 4,
 "nbformat_minor": 5
}
